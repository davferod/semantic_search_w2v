{
 "cells": [
  {
   "cell_type": "code",
   "execution_count": null,
   "id": "495ba4ba-037c-4a15-a6fe-48ccbc2664c9",
   "metadata": {},
   "outputs": [],
   "source": [
    "#instalaciones requeridas\n",
    "#pip install pandas\n",
    "#pip install gradio\n",
    "#pip install gensim\n",
    "#pip install \"numpy<2\"\n",
    "#pip install sklearn\n",
    "#pip install nltk"
   ]
  },
  {
   "cell_type": "code",
   "execution_count": 1,
   "id": "0852de3c-8ff9-4695-aabb-5bf43b124ad1",
   "metadata": {},
   "outputs": [],
   "source": [
    "import pandas as pd\n",
    "import numpy as np\n",
    "from gensim.models import Word2Vec\n",
    "from sklearn.metrics.pairwise import cosine_similarity\n",
    "from nltk.tokenize import word_tokenize\n",
    "import gradio as gr\n",
    "import nltk"
   ]
  },
  {
   "cell_type": "code",
   "execution_count": 2,
   "id": "dc244e30-18ea-451d-9101-2af9f65219d5",
   "metadata": {},
   "outputs": [
    {
     "name": "stderr",
     "output_type": "stream",
     "text": [
      "[nltk_data] Downloading package punkt to\n",
      "[nltk_data]     C:\\Users\\USUARIO\\AppData\\Roaming\\nltk_data...\n",
      "[nltk_data]   Package punkt is already up-to-date!\n"
     ]
    },
    {
     "data": {
      "text/plain": [
       "True"
      ]
     },
     "execution_count": 2,
     "metadata": {},
     "output_type": "execute_result"
    }
   ],
   "source": [
    "nltk.download('punkt')"
   ]
  },
  {
   "cell_type": "code",
   "execution_count": 3,
   "id": "9194195f-4229-41a8-b240-e54fde87091a",
   "metadata": {},
   "outputs": [],
   "source": [
    "# Preproceso y entrenamiento del modelo de embeddings\n",
    "def embed_text(path=\"texto.csv\"):\n",
    "    # Cargar los datos del archivo CSV\n",
    "    conocimiento_df = pd.read_csv(path)\n",
    "    \n",
    "    # Tokenizar cada texto\n",
    "    conocimiento_df['tokens'] = conocimiento_df['texto'].apply(word_tokenize)\n",
    "    \n",
    "    # Entrenar Word2Vec en los tokens\n",
    "    model = Word2Vec(conocimiento_df['tokens'], vector_size=100, window=5, min_count=1, workers=4)\n",
    "    \n",
    "    # Obtener los embeddings de cada documento (promedio de los embeddings de las palabras)\n",
    "    conocimiento_df['Embedding'] = conocimiento_df['tokens'].apply(lambda tokens: np.mean([model.wv[word] for word in tokens if word in model.wv], axis=0))\n",
    "    \n",
    "    # Guardar los embeddings en un archivo CSV\n",
    "    conocimiento_df.to_csv('embeddings.csv', index=False)\n",
    "    \n",
    "    return conocimiento_df, model"
   ]
  },
  {
   "cell_type": "code",
   "execution_count": 4,
   "id": "17101994-6f3a-431e-8d1c-552f823f0676",
   "metadata": {},
   "outputs": [],
   "source": [
    "# Búsqueda con similitud de coseno\n",
    "def buscar(busqueda, datos, model, n_resultados=5):\n",
    "    # Tokenizar la búsqueda\n",
    "    tokens_busqueda = word_tokenize(busqueda)\n",
    "    \n",
    "    # Cargar el modelo Word2Vec (puedes cargar el mismo modelo entrenado anteriormente)\n",
    "    #model = Word2Vec([tokens_busqueda], vector_size=100, window=5, min_count=1, workers=4)\n",
    "    model.build_vocab([tokens_busqueda], update=True)  # Actualiza el vocabulario del modelo\n",
    "    model.train([tokens_busqueda], total_examples=1, epochs=1)  # Reentrena el modelo con la nueva búsqueda\n",
    "    \n",
    "    # Generar embedding para la búsqueda (promedio de los embeddings de las palabras)\n",
    "    busqueda_embed = np.mean([model.wv[word] for word in tokens_busqueda if word in model.wv], axis=0).reshape(1, -1)\n",
    "    \n",
    "    # Calcular la similitud de coseno entre la búsqueda y cada documento\n",
    "    datos['Similitud'] = datos['Embedding'].apply(lambda x: cosine_similarity(np.array(x).reshape(1, -1), busqueda_embed)[0][0])\n",
    "    \n",
    "    # Ordenar por similitud y devolver los resultados más relevantes\n",
    "    datos = datos.sort_values(\"Similitud\", ascending=False)\n",
    "    return datos.iloc[:n_resultados][[\"texto\", \"Similitud\", \"Embedding\"]]\n"
   ]
  },
  {
   "cell_type": "code",
   "execution_count": 5,
   "id": "28c45507-5673-4ef0-9653-e837e304f87a",
   "metadata": {},
   "outputs": [],
   "source": [
    "# Embedding del texto\n",
    "texto_emb, model = embed_text(\"./chatbot_qa.csv\")\n"
   ]
  },
  {
   "cell_type": "code",
   "execution_count": 6,
   "id": "f4f2a04d-1a10-415c-868a-a6e991b41e3e",
   "metadata": {},
   "outputs": [
    {
     "name": "stdout",
     "output_type": "stream",
     "text": [
      "* Running on local URL:  http://127.0.0.1:7860\n",
      "\n",
      "To create a public link, set `share=True` in `launch()`.\n"
     ]
    },
    {
     "data": {
      "text/html": [
       "<div><iframe src=\"http://127.0.0.1:7860/\" width=\"100%\" height=\"500\" allow=\"autoplay; camera; microphone; clipboard-read; clipboard-write;\" frameborder=\"0\" allowfullscreen></iframe></div>"
      ],
      "text/plain": [
       "<IPython.core.display.HTML object>"
      ]
     },
     "metadata": {},
     "output_type": "display_data"
    },
    {
     "data": {
      "text/plain": []
     },
     "execution_count": 6,
     "metadata": {},
     "output_type": "execute_result"
    }
   ],
   "source": [
    "def buscar_wrapper(busqueda, texto_emb):\n",
    "    return buscar(busqueda, texto_emb, model)\n",
    "\n",
    "# Gradio UI\n",
    "with gr.Blocks() as demo:\n",
    "    busqueda = gr.Textbox(label=\"Buscar\")\n",
    "    output = gr.DataFrame(headers=['texto'])\n",
    "    greet_btn = gr.Button(\"Preguntar\")\n",
    "    \n",
    "    greet_btn.click(fn=buscar_wrapper, inputs=[busqueda, gr.DataFrame(texto_emb)], outputs=output)\n",
    "\n",
    "demo.launch()"
   ]
  },
  {
   "cell_type": "code",
   "execution_count": 8,
   "id": "b9f6493b-318b-43a0-b27b-7c1622e928c2",
   "metadata": {},
   "outputs": [],
   "source": [
    "resultado=buscar_wrapper(\"estan abiertos\", texto_emb)"
   ]
  },
  {
   "cell_type": "code",
   "execution_count": 15,
   "id": "8a8a726b-9e53-4619-a4d9-0ece2cedae48",
   "metadata": {},
   "outputs": [
    {
     "data": {
      "text/html": [
       "<div>\n",
       "<style scoped>\n",
       "    .dataframe tbody tr th:only-of-type {\n",
       "        vertical-align: middle;\n",
       "    }\n",
       "\n",
       "    .dataframe tbody tr th {\n",
       "        vertical-align: top;\n",
       "    }\n",
       "\n",
       "    .dataframe thead th {\n",
       "        text-align: right;\n",
       "    }\n",
       "</style>\n",
       "<table border=\"1\" class=\"dataframe\">\n",
       "  <thead>\n",
       "    <tr style=\"text-align: right;\">\n",
       "      <th></th>\n",
       "      <th>texto</th>\n",
       "      <th>Similitud</th>\n",
       "      <th>Embedding</th>\n",
       "    </tr>\n",
       "  </thead>\n",
       "  <tbody>\n",
       "    <tr>\n",
       "      <th>1</th>\n",
       "      <td>Estamos abiertos de Lunes a Sabado de 9 a 16:00</td>\n",
       "      <td>0.145068</td>\n",
       "      <td>[-0.0007152733, 3.1758846e-05, 0.002224551, -0...</td>\n",
       "    </tr>\n",
       "    <tr>\n",
       "      <th>5</th>\n",
       "      <td>Las cotizaciones se hacen una vez que ya se de...</td>\n",
       "      <td>0.078098</td>\n",
       "      <td>[-0.00069736206, -0.0010509983, -0.0007322012,...</td>\n",
       "    </tr>\n",
       "    <tr>\n",
       "      <th>0</th>\n",
       "      <td>Cerramos los domingos</td>\n",
       "      <td>-0.003760</td>\n",
       "      <td>[0.0005585933, 0.0050890553, -0.00076500064, 0...</td>\n",
       "    </tr>\n",
       "    <tr>\n",
       "      <th>3</th>\n",
       "      <td>Contamos con servicios de carpinteria y herrería</td>\n",
       "      <td>-0.017286</td>\n",
       "      <td>[-0.0036363613, 0.00035885003, -0.0033940468, ...</td>\n",
       "    </tr>\n",
       "    <tr>\n",
       "      <th>4</th>\n",
       "      <td>No contamos con servicio de jardinería</td>\n",
       "      <td>-0.045271</td>\n",
       "      <td>[0.0008710359, 0.00022980718, 0.0008115939, -0...</td>\n",
       "    </tr>\n",
       "  </tbody>\n",
       "</table>\n",
       "</div>"
      ],
      "text/plain": [
       "                                               texto  Similitud  \\\n",
       "1    Estamos abiertos de Lunes a Sabado de 9 a 16:00   0.145068   \n",
       "5  Las cotizaciones se hacen una vez que ya se de...   0.078098   \n",
       "0                              Cerramos los domingos  -0.003760   \n",
       "3   Contamos con servicios de carpinteria y herrería  -0.017286   \n",
       "4             No contamos con servicio de jardinería  -0.045271   \n",
       "\n",
       "                                           Embedding  \n",
       "1  [-0.0007152733, 3.1758846e-05, 0.002224551, -0...  \n",
       "5  [-0.00069736206, -0.0010509983, -0.0007322012,...  \n",
       "0  [0.0005585933, 0.0050890553, -0.00076500064, 0...  \n",
       "3  [-0.0036363613, 0.00035885003, -0.0033940468, ...  \n",
       "4  [0.0008710359, 0.00022980718, 0.0008115939, -0...  "
      ]
     },
     "execution_count": 15,
     "metadata": {},
     "output_type": "execute_result"
    }
   ],
   "source": [
    "resultado"
   ]
  },
  {
   "cell_type": "markdown",
   "id": "1fabd945-a1cc-4e05-99ea-45017f1171d3",
   "metadata": {},
   "source": [
    "# Ejercicio mas rudimentario"
   ]
  },
  {
   "cell_type": "markdown",
   "id": "e7a286d4-4b41-45dd-b34c-6ee3bdd59963",
   "metadata": {},
   "source": [
    "# Word2Vec"
   ]
  },
  {
   "cell_type": "code",
   "execution_count": 19,
   "id": "b7434fca-207b-46c2-a735-73f933c3fb5f",
   "metadata": {},
   "outputs": [],
   "source": [
    "import string\n",
    "from gensim.models import Word2Vec"
   ]
  },
  {
   "cell_type": "code",
   "execution_count": 21,
   "id": "5b5865e7-4506-402a-88c2-9b2e06bc1a7c",
   "metadata": {},
   "outputs": [],
   "source": [
    "with open('Minecraft.txt', 'r', encoding='utf-8') as file:\n",
    "    documento = file.read()"
   ]
  },
  {
   "cell_type": "code",
   "execution_count": 23,
   "id": "0cfd264a-6acd-4e94-bf8a-c3ad166b2203",
   "metadata": {},
   "outputs": [
    {
     "data": {
      "text/plain": [
       "198"
      ]
     },
     "execution_count": 23,
     "metadata": {},
     "output_type": "execute_result"
    }
   ],
   "source": [
    "# Dividir el documento en frases usando el punto como separador\n",
    "oraciones = documento.split(',')\n",
    "len(oraciones)"
   ]
  },
  {
   "cell_type": "code",
   "execution_count": 25,
   "id": "497e9914-4a84-4234-a340-ea7fa458b302",
   "metadata": {},
   "outputs": [
    {
     "data": {
      "text/plain": [
       "'Minecraft \\nMinecraft es un videojuego de construcción de tipo «mundo abierto» o sandbox creado originalmente por el sueco Markus Persson (conocido comúnmente como «Notch»)'"
      ]
     },
     "execution_count": 25,
     "metadata": {},
     "output_type": "execute_result"
    }
   ],
   "source": [
    "oraciones[0]"
   ]
  },
  {
   "cell_type": "code",
   "execution_count": 27,
   "id": "dedf093a-d31d-498c-9dd1-85d617933238",
   "metadata": {},
   "outputs": [],
   "source": [
    "oraciones_limpias = []\n",
    "for oracion in oraciones:\n",
    "    # Eliminar puntuación y dividir por espacios\n",
    "    tokens = oracion.translate(str.maketrans('', '', \n",
    "                                        string.punctuation)).split()\n",
    "    # Convertir a minúsculas\n",
    "    tokens = [word.lower() for word in tokens if word.isalpha()]\n",
    "    if tokens:  # Añadir solo si hay tokens\n",
    "        oraciones_limpias.append(tokens)"
   ]
  },
  {
   "cell_type": "code",
   "execution_count": 29,
   "id": "285a8429-9cb0-4c0f-9368-dca74ad98f8d",
   "metadata": {},
   "outputs": [
    {
     "data": {
      "text/plain": [
       "['minecraft',\n",
       " 'minecraft',\n",
       " 'es',\n",
       " 'un',\n",
       " 'videojuego',\n",
       " 'de',\n",
       " 'construcción',\n",
       " 'de',\n",
       " 'tipo',\n",
       " 'o',\n",
       " 'sandbox',\n",
       " 'creado',\n",
       " 'originalmente',\n",
       " 'por',\n",
       " 'el',\n",
       " 'sueco',\n",
       " 'markus',\n",
       " 'persson',\n",
       " 'conocido',\n",
       " 'comúnmente',\n",
       " 'como']"
      ]
     },
     "execution_count": 29,
     "metadata": {},
     "output_type": "execute_result"
    }
   ],
   "source": [
    "oraciones_limpias[0]"
   ]
  },
  {
   "cell_type": "markdown",
   "id": "dc8e051d-a043-4ac4-872f-0bee8a04c486",
   "metadata": {},
   "source": [
    "## Entrenamiento del modelo Word2Vec "
   ]
  },
  {
   "cell_type": "code",
   "execution_count": 32,
   "id": "a716e532-8a26-42a9-a797-876a0bb034d6",
   "metadata": {},
   "outputs": [],
   "source": [
    "# Entrenar el modelo Word2Vec\n",
    "model = Word2Vec(sentences=oraciones_limpias, \n",
    "                 vector_size=500, window=5, min_count=1, workers=8)"
   ]
  },
  {
   "cell_type": "code",
   "execution_count": 34,
   "id": "4b9d77da-149b-48dd-963f-ac4e8c017e4a",
   "metadata": {},
   "outputs": [],
   "source": [
    "vector = model.wv['minecraft']"
   ]
  },
  {
   "cell_type": "code",
   "execution_count": 36,
   "id": "83c5ed88-9211-4496-9cc6-297d1212d75f",
   "metadata": {},
   "outputs": [
    {
     "data": {
      "text/plain": [
       "array([ 1.31467485e-03,  1.72488671e-03,  1.61889032e-03,  2.37747072e-03,\n",
       "       -1.62376475e-03, -1.44111132e-03,  2.11569527e-03,  2.77249445e-03,\n",
       "        1.01266417e-03,  8.05176503e-04, -2.19122827e-04, -1.27422111e-03,\n",
       "        1.04291993e-03, -1.30581344e-03,  6.94971022e-05, -3.00907250e-03,\n",
       "       -1.93236396e-03, -2.70003034e-03,  1.20208610e-03, -1.34947873e-03,\n",
       "        2.30061612e-03, -2.35353736e-03, -9.58908859e-05,  6.28849550e-04,\n",
       "       -3.08468647e-04,  8.10732075e-04, -4.96394758e-04, -6.10958887e-05,\n",
       "       -3.18940403e-03, -2.11702893e-03,  1.65419409e-03,  3.93253198e-04,\n",
       "        1.74455554e-03, -1.67894014e-03,  1.72165618e-03, -1.03814702e-03,\n",
       "        2.13829940e-03,  4.13459900e-04, -1.98268401e-03,  1.99841787e-04,\n",
       "       -1.86780014e-03, -2.27080146e-03, -1.21268374e-03,  1.01278524e-03,\n",
       "       -3.19198146e-03, -2.88477447e-03,  8.34073056e-04,  1.24955608e-03,\n",
       "       -1.92226827e-04,  3.36185010e-04, -9.26160137e-04, -1.92146195e-04,\n",
       "       -1.97093599e-04,  1.83844371e-04, -5.22111892e-04, -1.36184128e-04,\n",
       "        1.73631485e-03, -1.35724433e-03, -2.08762847e-03,  2.49728886e-03,\n",
       "        2.19378644e-03, -6.83666207e-04,  1.15712988e-03,  2.16478220e-04,\n",
       "       -1.91404065e-03,  7.53896195e-04, -1.25889119e-03,  1.34788558e-03,\n",
       "        7.11736386e-04, -1.34519988e-03, -8.93544930e-04, -2.46362324e-04,\n",
       "        1.53966050e-03, -1.28874509e-03,  2.70765484e-03,  2.09231745e-03,\n",
       "       -1.03700522e-03,  1.20836881e-03,  1.08352164e-03, -2.65086710e-04,\n",
       "       -1.31697534e-03, -2.32688122e-04, -1.86272070e-03,  2.14114063e-03,\n",
       "       -3.81472078e-03, -2.20174959e-04,  9.49537440e-04,  1.04639214e-03,\n",
       "        2.62543582e-03,  4.55077563e-04,  7.56930094e-04,  7.87352968e-04,\n",
       "        2.21290538e-04,  9.35959164e-04,  2.71514128e-03,  8.21013411e-04,\n",
       "       -5.88412862e-04, -3.99082084e-04, -1.37990713e-03, -1.04793499e-03,\n",
       "       -1.48803042e-03, -1.32272986e-03,  1.53873954e-03,  1.25494401e-03,\n",
       "        2.09883030e-04, -9.08455113e-04, -2.07594130e-03, -7.84799689e-04,\n",
       "        6.13814569e-04,  3.41191713e-04,  6.57766475e-04, -1.53908844e-03,\n",
       "        2.14273855e-03,  1.62138965e-03, -5.16856206e-04, -8.31821118e-04,\n",
       "        6.22293970e-04, -2.20062560e-03,  2.24053627e-03, -4.04557621e-04,\n",
       "        6.37357425e-06,  5.04174212e-04,  1.78944087e-03, -2.22659134e-03,\n",
       "        1.99053972e-03,  1.88039776e-04, -3.59179103e-03,  2.52518221e-03,\n",
       "       -7.84095610e-04,  2.28967215e-03,  1.44079723e-03,  1.62381248e-03,\n",
       "        3.52175412e-04, -1.72867021e-03, -4.31751454e-04,  3.24927294e-03,\n",
       "        2.14214160e-04, -1.63208460e-03, -1.16923277e-03, -2.41718395e-03,\n",
       "        6.86030893e-04, -2.66437558e-03,  1.67402602e-03,  1.19319644e-04,\n",
       "        2.50498601e-03,  1.56446057e-03, -7.98773908e-05,  1.78449583e-04,\n",
       "        9.53697483e-04, -1.02070370e-03,  2.63441517e-03,  1.77171256e-03,\n",
       "        2.34155473e-03,  1.00097386e-03, -3.70474299e-03,  1.61417178e-03,\n",
       "       -3.67013708e-04,  1.07338803e-03, -8.12618120e-04,  1.39854953e-03,\n",
       "        1.47405418e-03,  1.54298657e-04, -1.57560816e-03, -1.21271459e-03,\n",
       "        1.50957168e-03, -7.13134417e-04,  1.53713836e-03,  1.02602120e-04,\n",
       "        1.43934612e-03,  2.39427015e-03, -4.95298416e-04,  2.22855713e-03,\n",
       "       -1.18127128e-03,  2.02363310e-03,  1.55137014e-03, -4.83127544e-04,\n",
       "       -1.23131648e-03, -7.99152825e-04,  1.39392237e-03,  2.84783263e-03,\n",
       "        2.65647745e-04,  1.33698486e-04, -7.04197970e-04, -1.21899252e-03,\n",
       "       -1.47070677e-03,  5.19095804e-04, -2.36295629e-03, -8.76655744e-04,\n",
       "        1.96494628e-03,  2.36292975e-03,  3.30919656e-03, -1.06643757e-03,\n",
       "       -1.71480828e-03, -1.71219721e-03,  7.03150115e-04, -1.71198125e-03,\n",
       "       -1.52842607e-03, -4.62570388e-05, -2.09914069e-04, -1.30144309e-03,\n",
       "        9.69512505e-04, -1.93014438e-03, -3.85160121e-04, -1.01286697e-03,\n",
       "        1.50392752e-03,  3.35809862e-04, -1.01977168e-03,  1.04071281e-03,\n",
       "        7.43551704e-04, -1.58049574e-03,  1.72451604e-03, -1.37249162e-05,\n",
       "       -2.54109013e-03, -1.23044010e-03,  7.26979866e-04, -4.95596614e-04,\n",
       "       -1.32525060e-03, -1.72589638e-03,  2.13013758e-04, -2.63132108e-03,\n",
       "       -1.17786694e-03,  1.56165822e-03,  1.48772891e-03, -9.16797959e-04,\n",
       "        1.78494444e-03, -3.60899314e-04,  1.65378908e-03,  3.08230810e-04,\n",
       "       -3.91811045e-05,  1.82912475e-03,  4.72095635e-05, -2.07061949e-03,\n",
       "        1.52763748e-03, -7.45229539e-04,  3.22050502e-04, -1.05502701e-03,\n",
       "       -2.34892592e-03, -3.18726106e-03,  2.06071441e-03, -3.47444555e-04,\n",
       "        1.62133307e-04, -2.46502808e-03, -2.74084602e-03,  3.66414490e-04,\n",
       "        1.13555323e-03, -2.46255635e-03,  1.13607571e-03, -5.80428750e-04,\n",
       "        3.22123728e-04,  2.36906647e-03, -2.04245312e-04, -3.08112125e-03,\n",
       "        8.23073642e-05,  8.66765156e-04,  1.45932322e-03, -2.47077987e-04,\n",
       "        1.24230399e-03,  2.28442252e-03, -2.72025331e-03,  2.26464099e-03,\n",
       "       -2.38017458e-03,  8.70671181e-04, -4.47148253e-04,  6.78150973e-04,\n",
       "       -3.99113400e-04,  1.30375195e-03,  7.15537637e-04,  3.48332198e-03,\n",
       "       -3.68742133e-03,  1.03148271e-03,  2.37835935e-04,  5.24895440e-04,\n",
       "        3.59496055e-03, -1.58606656e-03, -7.12440000e-04, -1.22066413e-03,\n",
       "       -7.15311791e-04, -1.51516462e-03, -1.55796285e-03, -3.09944618e-04,\n",
       "        1.47992547e-03, -1.05380116e-03, -2.95403949e-03,  6.19206403e-04,\n",
       "        3.66202020e-03, -2.01240371e-04,  2.24276271e-04, -5.57611347e-04,\n",
       "        2.05613193e-04,  1.27228815e-03, -1.43998512e-03,  2.50414363e-03,\n",
       "        1.24092493e-03, -3.43532913e-04,  1.68268464e-03,  1.54817186e-03,\n",
       "        3.71825043e-03, -5.50659955e-04,  2.80766678e-03, -1.87134231e-03,\n",
       "       -4.97509136e-05,  2.39090412e-04, -9.46797023e-04,  2.36772848e-05,\n",
       "       -6.48719666e-04, -2.15546205e-03,  2.77141691e-04,  2.26417161e-03,\n",
       "       -1.44531578e-03, -2.30520405e-03, -1.07172399e-03,  9.63906059e-04,\n",
       "       -1.52415107e-03,  2.31885235e-03,  1.14678952e-03,  1.67523292e-04,\n",
       "        2.41388421e-04, -1.92760094e-03,  1.22479815e-03,  6.49364549e-04,\n",
       "        2.05321005e-04, -8.28078948e-04,  1.00491592e-03, -1.32864297e-04,\n",
       "        8.83680128e-04, -1.30497152e-03,  8.25173105e-04, -2.26935232e-03,\n",
       "       -1.69491090e-04,  1.74351560e-03,  2.34054332e-03, -1.66368939e-03,\n",
       "        3.71844799e-04, -1.59506826e-03, -6.96017407e-04,  1.67758742e-04,\n",
       "       -1.83116656e-03,  2.57588830e-03,  7.35150650e-04, -1.79147336e-03,\n",
       "       -2.24801432e-03, -5.60245608e-05,  8.25713563e-04, -8.79201049e-04,\n",
       "        1.89160311e-03,  1.56257476e-04, -2.90456391e-03,  1.49466714e-03,\n",
       "       -1.27335754e-03,  2.27793003e-04, -5.09691017e-04,  1.52488775e-03,\n",
       "       -2.22157221e-03, -2.15461638e-04, -4.20872879e-04,  1.65016402e-03,\n",
       "       -1.99962128e-03, -1.44846446e-03, -3.67059605e-04, -8.53097183e-04,\n",
       "       -1.76221761e-03,  1.84752978e-04, -7.49187195e-04,  2.16079457e-03,\n",
       "        1.04488412e-04, -6.42401050e-04,  6.68756722e-04, -7.44413643e-04,\n",
       "       -5.43337199e-04,  9.44315747e-04,  1.27542997e-03, -1.37126818e-03,\n",
       "       -1.68856932e-03, -2.91476666e-04,  1.68559281e-03, -1.80140941e-03,\n",
       "       -1.62866304e-03,  1.68982893e-04,  9.89990775e-04, -5.64570189e-04,\n",
       "        2.73470441e-03, -2.15304922e-03,  2.82116840e-03, -5.97550359e-04,\n",
       "        1.91095658e-03,  5.83117187e-04,  1.10652240e-03, -5.80681139e-04,\n",
       "        1.77563995e-03,  3.86940257e-04, -1.10704580e-03, -2.38196505e-03,\n",
       "        7.86193763e-04, -9.24552500e-04, -7.38028612e-04,  1.96211552e-03,\n",
       "       -9.22269130e-04, -1.74836849e-03,  1.70544162e-03,  7.67710793e-04,\n",
       "       -1.22443412e-03, -6.53836178e-05, -1.30074308e-03, -2.56611360e-03,\n",
       "       -1.24266557e-03, -1.71445950e-03, -1.66539929e-03,  3.02588963e-03,\n",
       "        1.73920393e-03, -9.98261967e-04,  1.23327554e-04, -2.77244276e-03,\n",
       "        5.49031771e-04,  8.11060658e-04,  3.91939946e-04, -8.75759695e-04,\n",
       "        6.85540726e-04,  2.27162513e-04,  8.55961043e-05, -5.62341651e-04,\n",
       "        1.63157599e-03,  1.59529562e-03, -1.52232044e-03,  1.77264912e-03,\n",
       "       -1.97902089e-03, -8.45497241e-04,  1.31335296e-03, -2.49224994e-03,\n",
       "       -4.78353439e-04, -1.12587574e-03, -2.31689960e-03,  2.44284864e-04,\n",
       "        6.76679076e-04, -1.47817587e-03, -1.98845915e-03,  1.29964005e-03,\n",
       "       -1.15905120e-03, -1.84711802e-03, -7.23265694e-04,  2.02789292e-04,\n",
       "        1.52929756e-03, -4.79432434e-04,  2.79634586e-03, -2.04091100e-03,\n",
       "        3.36884568e-03,  1.94509549e-03,  5.38417429e-04, -5.18328452e-04,\n",
       "       -5.78513253e-04, -7.90815451e-04, -1.12295989e-03, -1.26625155e-03,\n",
       "        4.44425212e-04, -1.95220683e-03,  2.16785609e-03, -1.06801174e-03,\n",
       "        1.69896637e-03, -2.91664655e-05,  1.95240567e-03, -2.23714882e-03,\n",
       "        1.17904227e-03, -4.06786217e-04,  5.18054236e-04,  4.74635453e-04,\n",
       "       -2.56669358e-03,  2.10251519e-03, -1.06355827e-03, -1.32628880e-03,\n",
       "       -2.17898283e-03,  1.79171585e-03,  1.15485943e-03, -3.37036123e-04,\n",
       "        2.17709900e-03, -1.34104316e-03,  2.78645824e-03,  3.65548907e-03,\n",
       "        1.04414125e-03, -1.85739264e-04, -2.85482639e-03,  6.12912525e-04,\n",
       "       -1.43780804e-03, -1.05960807e-03, -1.02778641e-03,  2.93541397e-03,\n",
       "        2.32863287e-03,  1.01390400e-03,  9.52785776e-04,  3.15003865e-03,\n",
       "        1.28161302e-03,  4.82584495e-04,  8.18339875e-04, -1.46870629e-03,\n",
       "        2.64756125e-03, -9.22654639e-04, -2.77842919e-04,  1.88507908e-03,\n",
       "       -1.99385406e-03, -1.71094283e-03, -1.82644895e-03,  6.80578873e-04],\n",
       "      dtype=float32)"
      ]
     },
     "execution_count": 36,
     "metadata": {},
     "output_type": "execute_result"
    }
   ],
   "source": [
    "vector"
   ]
  },
  {
   "cell_type": "code",
   "execution_count": 38,
   "id": "4b7ff2c6-f4c3-4aa7-ac21-bc8477d91b10",
   "metadata": {},
   "outputs": [
    {
     "data": {
      "text/plain": [
       "[('en', 0.5539902448654175),\n",
       " ('de', 0.5418345928192139),\n",
       " ('la', 0.46545806527137756),\n",
       " ('el', 0.4584834575653076),\n",
       " ('jugadores', 0.45203712582588196),\n",
       " ('los', 0.4388474225997925),\n",
       " ('que', 0.4329295754432678),\n",
       " ('para', 0.4269357919692993),\n",
       " ('y', 0.422042578458786),\n",
       " ('a', 0.41557562351226807)]"
      ]
     },
     "execution_count": 38,
     "metadata": {},
     "output_type": "execute_result"
    }
   ],
   "source": [
    "palabras_cercanas = model.wv.most_similar(\"minecraft\", topn=10)\n",
    "palabras_cercanas"
   ]
  }
 ],
 "metadata": {
  "kernelspec": {
   "display_name": "Python 3 (ipykernel)",
   "language": "python",
   "name": "python3"
  },
  "language_info": {
   "codemirror_mode": {
    "name": "ipython",
    "version": 3
   },
   "file_extension": ".py",
   "mimetype": "text/x-python",
   "name": "python",
   "nbconvert_exporter": "python",
   "pygments_lexer": "ipython3",
   "version": "3.12.4"
  }
 },
 "nbformat": 4,
 "nbformat_minor": 5
}
